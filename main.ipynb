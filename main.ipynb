{
 "cells": [
  {
   "cell_type": "markdown",
   "id": "19155fa0",
   "metadata": {},
   "source": [
    "# LAB | Introduction to MLOps\n",
    "\n",
    "Answer the questions,"
   ]
  },
  {
   "cell_type": "markdown",
   "id": "3671f18c",
   "metadata": {},
   "source": [
    "Data source: https://www1.nyc.gov/site/tlc/about/tlc-trip-record-data.page"
   ]
  },
  {
   "cell_type": "code",
   "execution_count": 1,
   "id": "ffbae123",
   "metadata": {},
   "outputs": [],
   "source": [
    "import pandas as pd"
   ]
  },
  {
   "cell_type": "code",
   "execution_count": 2,
   "id": "0939ec8e",
   "metadata": {},
   "outputs": [],
   "source": [
    "# !pip install pyarrow"
   ]
  },
  {
   "cell_type": "code",
   "execution_count": 3,
   "id": "6a5cd385",
   "metadata": {},
   "outputs": [],
   "source": [
    "df_jan = pd.read_parquet('./data/fhv_tripdata_2021-01.parquet')\n",
    "df_feb = pd.read_parquet('./data/fhv_tripdata_2021-02.parquet')"
   ]
  },
  {
   "cell_type": "markdown",
   "id": "db2148bc",
   "metadata": {},
   "source": [
    "**Q1: Read the data for January. How many records are there?**"
   ]
  },
  {
   "cell_type": "code",
   "execution_count": 1,
   "id": "c4ce9c33",
   "metadata": {
    "scrolled": true
   },
   "outputs": [],
   "source": [
    "# your code here"
   ]
  },
  {
   "cell_type": "markdown",
   "id": "53edf473",
   "metadata": {},
   "source": [
    "**Q2: What's the average trip duration in January?**"
   ]
  },
  {
   "cell_type": "code",
   "execution_count": 2,
   "id": "9c977364",
   "metadata": {},
   "outputs": [],
   "source": [
    "# your code here"
   ]
  },
  {
   "cell_type": "markdown",
   "id": "3550dbfc",
   "metadata": {},
   "source": [
    "**Q3: How many records did you drop?**"
   ]
  },
  {
   "cell_type": "code",
   "execution_count": 3,
   "id": "15c0b8a2",
   "metadata": {},
   "outputs": [],
   "source": [
    "# your code here"
   ]
  },
  {
   "cell_type": "markdown",
   "id": "a664882c",
   "metadata": {},
   "source": [
    "**What's the fractions of missing values for the pickup location ID? I.e. fraction of \"-1\"s after you filled the NAs.**"
   ]
  },
  {
   "cell_type": "code",
   "execution_count": 4,
   "id": "18a344da",
   "metadata": {},
   "outputs": [],
   "source": [
    "# your code here"
   ]
  },
  {
   "cell_type": "markdown",
   "id": "73f78dcb",
   "metadata": {},
   "source": [
    "**Q5: What's the dimensionality of this matrix? (The number of columns).**"
   ]
  },
  {
   "cell_type": "code",
   "execution_count": 5,
   "id": "1488c9ad",
   "metadata": {},
   "outputs": [],
   "source": [
    "# your code here"
   ]
  },
  {
   "cell_type": "markdown",
   "id": "74cf3bdd",
   "metadata": {},
   "source": [
    "**Q6: What's the RMSE on train?**"
   ]
  },
  {
   "cell_type": "code",
   "execution_count": 6,
   "id": "f0af662d",
   "metadata": {
    "scrolled": true
   },
   "outputs": [],
   "source": [
    "# your code here"
   ]
  },
  {
   "cell_type": "markdown",
   "id": "db143f0c",
   "metadata": {},
   "source": [
    "Now, let's put data preprocssing steps in a function so that we can process the validation set in the same way as well."
   ]
  },
  {
   "cell_type": "code",
   "execution_count": 127,
   "id": "1906e10e",
   "metadata": {},
   "outputs": [],
   "source": [
    "# your code here"
   ]
  },
  {
   "cell_type": "markdown",
   "id": "232b8068",
   "metadata": {},
   "source": [
    "**Q7: What's the RMSE on validation?**"
   ]
  },
  {
   "cell_type": "code",
   "execution_count": 7,
   "id": "6b2aa8e7",
   "metadata": {},
   "outputs": [],
   "source": [
    "# your code here"
   ]
  },
  {
   "cell_type": "markdown",
   "id": "01a0bf73",
   "metadata": {},
   "source": [
    "## Why to use MLOps as we learn from this excercise ##"
   ]
  },
  {
   "cell_type": "code",
   "execution_count": null,
   "id": "c4422206",
   "metadata": {},
   "outputs": [],
   "source": [
    "# your answer here"
   ]
  },
  {
   "cell_type": "markdown",
   "id": "8dca5629",
   "metadata": {},
   "source": [
    "## BONUS: \n",
    "\n",
    "Now, try and run this notebook on AWS Instance"
   ]
  },
  {
   "cell_type": "markdown",
   "id": "db11f7cf",
   "metadata": {},
   "source": []
  }
 ],
 "metadata": {
  "kernelspec": {
   "display_name": "Python 3 (ipykernel)",
   "language": "python",
   "name": "python3"
  },
  "language_info": {
   "codemirror_mode": {
    "name": "ipython",
    "version": 3
   },
   "file_extension": ".py",
   "mimetype": "text/x-python",
   "name": "python",
   "nbconvert_exporter": "python",
   "pygments_lexer": "ipython3",
   "version": "3.9.13"
  }
 },
 "nbformat": 4,
 "nbformat_minor": 5
}
