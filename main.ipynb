{
 "cells": [
  {
   "cell_type": "markdown",
   "id": "19155fa0",
   "metadata": {},
   "source": [
    "# LAB | Introduction to MLOps\n",
    "\n",
    "Answer the questions,"
   ]
  },
  {
   "cell_type": "markdown",
   "id": "3671f18c",
   "metadata": {},
   "source": [
    "Data source: https://www1.nyc.gov/site/tlc/about/tlc-trip-record-data.page"
   ]
  },
  {
   "cell_type": "code",
   "execution_count": 1,
   "id": "ffbae123",
   "metadata": {},
   "outputs": [],
   "source": [
    "import pandas as pd"
   ]
  },
  {
   "cell_type": "code",
   "execution_count": 2,
   "id": "0939ec8e",
   "metadata": {},
   "outputs": [],
   "source": [
    " #!pip install pyarrow"
   ]
  },
  {
   "cell_type": "code",
   "execution_count": 2,
   "id": "6a5cd385",
   "metadata": {},
   "outputs": [],
   "source": [
    "df_jan = pd.read_parquet('./data/fhv_tripdata_2021-01.parquet')\n",
    "df_feb = pd.read_parquet('./data/fhv_tripdata_2021-02.parquet')"
   ]
  },
  {
   "cell_type": "code",
   "execution_count": 3,
   "id": "3be19af1",
   "metadata": {},
   "outputs": [
    {
     "data": {
      "text/html": [
       "<div>\n",
       "<style scoped>\n",
       "    .dataframe tbody tr th:only-of-type {\n",
       "        vertical-align: middle;\n",
       "    }\n",
       "\n",
       "    .dataframe tbody tr th {\n",
       "        vertical-align: top;\n",
       "    }\n",
       "\n",
       "    .dataframe thead th {\n",
       "        text-align: right;\n",
       "    }\n",
       "</style>\n",
       "<table border=\"1\" class=\"dataframe\">\n",
       "  <thead>\n",
       "    <tr style=\"text-align: right;\">\n",
       "      <th></th>\n",
       "      <th>dispatching_base_num</th>\n",
       "      <th>pickup_datetime</th>\n",
       "      <th>dropOff_datetime</th>\n",
       "      <th>PUlocationID</th>\n",
       "      <th>DOlocationID</th>\n",
       "      <th>SR_Flag</th>\n",
       "      <th>Affiliated_base_number</th>\n",
       "    </tr>\n",
       "  </thead>\n",
       "  <tbody>\n",
       "    <tr>\n",
       "      <th>0</th>\n",
       "      <td>B00009</td>\n",
       "      <td>2021-01-01 00:27:00</td>\n",
       "      <td>2021-01-01 00:44:00</td>\n",
       "      <td>NaN</td>\n",
       "      <td>NaN</td>\n",
       "      <td>None</td>\n",
       "      <td>B00009</td>\n",
       "    </tr>\n",
       "    <tr>\n",
       "      <th>1</th>\n",
       "      <td>B00009</td>\n",
       "      <td>2021-01-01 00:50:00</td>\n",
       "      <td>2021-01-01 01:07:00</td>\n",
       "      <td>NaN</td>\n",
       "      <td>NaN</td>\n",
       "      <td>None</td>\n",
       "      <td>B00009</td>\n",
       "    </tr>\n",
       "    <tr>\n",
       "      <th>2</th>\n",
       "      <td>B00013</td>\n",
       "      <td>2021-01-01 00:01:00</td>\n",
       "      <td>2021-01-01 01:51:00</td>\n",
       "      <td>NaN</td>\n",
       "      <td>NaN</td>\n",
       "      <td>None</td>\n",
       "      <td>B00013</td>\n",
       "    </tr>\n",
       "    <tr>\n",
       "      <th>3</th>\n",
       "      <td>B00037</td>\n",
       "      <td>2021-01-01 00:13:09</td>\n",
       "      <td>2021-01-01 00:21:26</td>\n",
       "      <td>NaN</td>\n",
       "      <td>72.0</td>\n",
       "      <td>None</td>\n",
       "      <td>B00037</td>\n",
       "    </tr>\n",
       "    <tr>\n",
       "      <th>4</th>\n",
       "      <td>B00037</td>\n",
       "      <td>2021-01-01 00:38:31</td>\n",
       "      <td>2021-01-01 00:53:44</td>\n",
       "      <td>NaN</td>\n",
       "      <td>61.0</td>\n",
       "      <td>None</td>\n",
       "      <td>B00037</td>\n",
       "    </tr>\n",
       "  </tbody>\n",
       "</table>\n",
       "</div>"
      ],
      "text/plain": [
       "  dispatching_base_num     pickup_datetime    dropOff_datetime  PUlocationID  \\\n",
       "0               B00009 2021-01-01 00:27:00 2021-01-01 00:44:00           NaN   \n",
       "1               B00009 2021-01-01 00:50:00 2021-01-01 01:07:00           NaN   \n",
       "2               B00013 2021-01-01 00:01:00 2021-01-01 01:51:00           NaN   \n",
       "3               B00037 2021-01-01 00:13:09 2021-01-01 00:21:26           NaN   \n",
       "4               B00037 2021-01-01 00:38:31 2021-01-01 00:53:44           NaN   \n",
       "\n",
       "   DOlocationID SR_Flag Affiliated_base_number  \n",
       "0           NaN    None                 B00009  \n",
       "1           NaN    None                 B00009  \n",
       "2           NaN    None                 B00013  \n",
       "3          72.0    None                 B00037  \n",
       "4          61.0    None                 B00037  "
      ]
     },
     "execution_count": 3,
     "metadata": {},
     "output_type": "execute_result"
    }
   ],
   "source": [
    "df_jan.head()"
   ]
  },
  {
   "cell_type": "code",
   "execution_count": 4,
   "id": "1466c8c8",
   "metadata": {},
   "outputs": [
    {
     "name": "stdout",
     "output_type": "stream",
     "text": [
      "<class 'pandas.core.frame.DataFrame'>\n",
      "RangeIndex: 1154112 entries, 0 to 1154111\n",
      "Data columns (total 7 columns):\n",
      " #   Column                  Non-Null Count    Dtype         \n",
      "---  ------                  --------------    -----         \n",
      " 0   dispatching_base_num    1154112 non-null  object        \n",
      " 1   pickup_datetime         1154112 non-null  datetime64[us]\n",
      " 2   dropOff_datetime        1154112 non-null  datetime64[us]\n",
      " 3   PUlocationID            195845 non-null   float64       \n",
      " 4   DOlocationID            991892 non-null   float64       \n",
      " 5   SR_Flag                 0 non-null        object        \n",
      " 6   Affiliated_base_number  1153227 non-null  object        \n",
      "dtypes: datetime64[us](2), float64(2), object(3)\n",
      "memory usage: 61.6+ MB\n"
     ]
    }
   ],
   "source": [
    "df_jan.info()"
   ]
  },
  {
   "cell_type": "code",
   "execution_count": 5,
   "id": "24b2c6f7",
   "metadata": {},
   "outputs": [
    {
     "data": {
      "text/html": [
       "<div>\n",
       "<style scoped>\n",
       "    .dataframe tbody tr th:only-of-type {\n",
       "        vertical-align: middle;\n",
       "    }\n",
       "\n",
       "    .dataframe tbody tr th {\n",
       "        vertical-align: top;\n",
       "    }\n",
       "\n",
       "    .dataframe thead th {\n",
       "        text-align: right;\n",
       "    }\n",
       "</style>\n",
       "<table border=\"1\" class=\"dataframe\">\n",
       "  <thead>\n",
       "    <tr style=\"text-align: right;\">\n",
       "      <th></th>\n",
       "      <th>dispatching_base_num</th>\n",
       "      <th>pickup_datetime</th>\n",
       "      <th>dropOff_datetime</th>\n",
       "      <th>PUlocationID</th>\n",
       "      <th>DOlocationID</th>\n",
       "      <th>SR_Flag</th>\n",
       "      <th>Affiliated_base_number</th>\n",
       "    </tr>\n",
       "  </thead>\n",
       "  <tbody>\n",
       "    <tr>\n",
       "      <th>0</th>\n",
       "      <td>B00013</td>\n",
       "      <td>2021-02-01 00:01:00</td>\n",
       "      <td>2021-02-01 01:33:00</td>\n",
       "      <td>NaN</td>\n",
       "      <td>NaN</td>\n",
       "      <td>None</td>\n",
       "      <td>B00014</td>\n",
       "    </tr>\n",
       "    <tr>\n",
       "      <th>1</th>\n",
       "      <td>B00021</td>\n",
       "      <td>2021-02-01 00:55:40</td>\n",
       "      <td>2021-02-01 01:06:20</td>\n",
       "      <td>173.0</td>\n",
       "      <td>82.0</td>\n",
       "      <td>None</td>\n",
       "      <td>B00021</td>\n",
       "    </tr>\n",
       "    <tr>\n",
       "      <th>2</th>\n",
       "      <td>B00021</td>\n",
       "      <td>2021-02-01 00:14:03</td>\n",
       "      <td>2021-02-01 00:28:37</td>\n",
       "      <td>173.0</td>\n",
       "      <td>56.0</td>\n",
       "      <td>None</td>\n",
       "      <td>B00021</td>\n",
       "    </tr>\n",
       "    <tr>\n",
       "      <th>3</th>\n",
       "      <td>B00021</td>\n",
       "      <td>2021-02-01 00:27:48</td>\n",
       "      <td>2021-02-01 00:35:45</td>\n",
       "      <td>82.0</td>\n",
       "      <td>129.0</td>\n",
       "      <td>None</td>\n",
       "      <td>B00021</td>\n",
       "    </tr>\n",
       "    <tr>\n",
       "      <th>4</th>\n",
       "      <td>B00037</td>\n",
       "      <td>2021-02-01 00:12:50</td>\n",
       "      <td>2021-02-01 00:26:38</td>\n",
       "      <td>NaN</td>\n",
       "      <td>225.0</td>\n",
       "      <td>None</td>\n",
       "      <td>B00037</td>\n",
       "    </tr>\n",
       "  </tbody>\n",
       "</table>\n",
       "</div>"
      ],
      "text/plain": [
       "  dispatching_base_num     pickup_datetime    dropOff_datetime  PUlocationID  \\\n",
       "0               B00013 2021-02-01 00:01:00 2021-02-01 01:33:00           NaN   \n",
       "1      B00021          2021-02-01 00:55:40 2021-02-01 01:06:20         173.0   \n",
       "2      B00021          2021-02-01 00:14:03 2021-02-01 00:28:37         173.0   \n",
       "3      B00021          2021-02-01 00:27:48 2021-02-01 00:35:45          82.0   \n",
       "4               B00037 2021-02-01 00:12:50 2021-02-01 00:26:38           NaN   \n",
       "\n",
       "   DOlocationID SR_Flag Affiliated_base_number  \n",
       "0           NaN    None                 B00014  \n",
       "1          82.0    None        B00021           \n",
       "2          56.0    None        B00021           \n",
       "3         129.0    None        B00021           \n",
       "4         225.0    None                 B00037  "
      ]
     },
     "execution_count": 5,
     "metadata": {},
     "output_type": "execute_result"
    }
   ],
   "source": [
    "df_feb.head()"
   ]
  },
  {
   "cell_type": "code",
   "execution_count": 6,
   "id": "355d9e49",
   "metadata": {},
   "outputs": [
    {
     "name": "stdout",
     "output_type": "stream",
     "text": [
      "<class 'pandas.core.frame.DataFrame'>\n",
      "RangeIndex: 1037692 entries, 0 to 1037691\n",
      "Data columns (total 7 columns):\n",
      " #   Column                  Non-Null Count    Dtype         \n",
      "---  ------                  --------------    -----         \n",
      " 0   dispatching_base_num    1037692 non-null  object        \n",
      " 1   pickup_datetime         1037692 non-null  datetime64[us]\n",
      " 2   dropOff_datetime        1037692 non-null  datetime64[us]\n",
      " 3   PUlocationID            153001 non-null   float64       \n",
      " 4   DOlocationID            885340 non-null   float64       \n",
      " 5   SR_Flag                 0 non-null        object        \n",
      " 6   Affiliated_base_number  1037692 non-null  object        \n",
      "dtypes: datetime64[us](2), float64(2), object(3)\n",
      "memory usage: 55.4+ MB\n"
     ]
    }
   ],
   "source": [
    "df_feb.info()"
   ]
  },
  {
   "cell_type": "markdown",
   "id": "db2148bc",
   "metadata": {},
   "source": [
    "**Q1: Read the data for January. How many records are there?**"
   ]
  },
  {
   "cell_type": "code",
   "execution_count": 7,
   "id": "c4ce9c33",
   "metadata": {
    "scrolled": true
   },
   "outputs": [
    {
     "data": {
      "text/plain": [
       "1154112"
      ]
     },
     "execution_count": 7,
     "metadata": {},
     "output_type": "execute_result"
    }
   ],
   "source": [
    "# your code here\n",
    "record_count_jan = len(df_jan)\n",
    "record_count_jan"
   ]
  },
  {
   "cell_type": "code",
   "execution_count": 8,
   "id": "15f342f1",
   "metadata": {},
   "outputs": [
    {
     "name": "stdout",
     "output_type": "stream",
     "text": [
      "Count of standard missing (NaN) values: 958267\n"
     ]
    }
   ],
   "source": [
    "# 1. Check the total number of standard missing (NaN) values\n",
    "nan_count = df_jan['PUlocationID'].isna().sum()\n",
    "\n",
    "print(f\"Count of standard missing (NaN) values: {nan_count}\")"
   ]
  },
  {
   "cell_type": "code",
   "execution_count": 9,
   "id": "1bac43b6",
   "metadata": {},
   "outputs": [
    {
     "name": "stdout",
     "output_type": "stream",
     "text": [
      "Count of -1 sentinel values: 0\n"
     ]
    }
   ],
   "source": [
    "# 2. Check the total number of -1 values\n",
    "neg_one_count = (df_jan['PUlocationID'] == -1).sum()\n",
    "\n",
    "print(f\"Count of -1 sentinel values: {neg_one_count}\")"
   ]
  },
  {
   "cell_type": "markdown",
   "id": "53edf473",
   "metadata": {},
   "source": [
    "**Q2: What's the average trip duration in January?**"
   ]
  },
  {
   "cell_type": "code",
   "execution_count": 10,
   "id": "9c977364",
   "metadata": {},
   "outputs": [
    {
     "name": "stdout",
     "output_type": "stream",
     "text": [
      "0         0 days 00:17:00\n",
      "1         0 days 00:17:00\n",
      "2         0 days 01:50:00\n",
      "3         0 days 00:08:17\n",
      "4         0 days 00:15:13\n",
      "                ...      \n",
      "1154107   0 days 00:08:45\n",
      "1154108   0 days 00:57:36\n",
      "1154109   0 days 00:16:12\n",
      "1154110   0 days 00:19:26\n",
      "1154111   0 days 00:36:00\n",
      "Name: duration, Length: 1154112, dtype: timedelta64[us]\n"
     ]
    }
   ],
   "source": [
    "# your code here\n",
    "df_jan['duration'] = df_jan['dropOff_datetime'] - df_jan['pickup_datetime']\n",
    "print(df_jan['duration'])"
   ]
  },
  {
   "cell_type": "code",
   "execution_count": 11,
   "id": "b559e371",
   "metadata": {},
   "outputs": [
    {
     "name": "stdout",
     "output_type": "stream",
     "text": [
      "0           17.000000\n",
      "1           17.000000\n",
      "2          110.000000\n",
      "3            8.283333\n",
      "4           15.216667\n",
      "              ...    \n",
      "1154107      8.750000\n",
      "1154108     57.600000\n",
      "1154109     16.200000\n",
      "1154110     19.433333\n",
      "1154111     36.000000\n",
      "Name: duration, Length: 1154112, dtype: float64\n"
     ]
    }
   ],
   "source": [
    "#Convert to minutes\n",
    "df_jan['duration'] = df_jan['duration'].apply(lambda x: x.total_seconds() / 60)\n",
    "print(df_jan['duration'])"
   ]
  },
  {
   "cell_type": "code",
   "execution_count": 12,
   "id": "836be456",
   "metadata": {},
   "outputs": [
    {
     "data": {
      "text/plain": [
       "count    1.154112e+06\n",
       "mean     1.916722e+01\n",
       "std      3.986922e+02\n",
       "min      1.666667e-02\n",
       "25%      7.766667e+00\n",
       "50%      1.340000e+01\n",
       "75%      2.228333e+01\n",
       "max      4.233710e+05\n",
       "Name: duration, dtype: float64"
      ]
     },
     "execution_count": 12,
     "metadata": {},
     "output_type": "execute_result"
    }
   ],
   "source": [
    "df_jan['duration'].describe()"
   ]
  },
  {
   "cell_type": "code",
   "execution_count": 13,
   "id": "93d397d3",
   "metadata": {},
   "outputs": [
    {
     "name": "stdout",
     "output_type": "stream",
     "text": [
      "Average trip duration in January:  19.17 minutes\n"
     ]
    }
   ],
   "source": [
    "#Average trip duration\n",
    "avg_duration_jan = df_jan['duration'].mean()\n",
    "print(f'Average trip duration in January: {avg_duration_jan: .2f} minutes')"
   ]
  },
  {
   "cell_type": "markdown",
   "id": "3550dbfc",
   "metadata": {},
   "source": [
    "**Q3: How many records did you drop?**"
   ]
  },
  {
   "cell_type": "code",
   "execution_count": 14,
   "id": "15c0b8a2",
   "metadata": {},
   "outputs": [
    {
     "name": "stdout",
     "output_type": "stream",
     "text": [
      "Initial count: 1154112\n",
      "Number of records dropped : 44286\n"
     ]
    }
   ],
   "source": [
    "# your code here\n",
    "initial_count = len(df_jan)\n",
    "print(f'Initial count: {initial_count}')\n",
    "\n",
    "#Duration range 1 to 60 minutes\n",
    "min_duration = 1\n",
    "max_duration = 60\n",
    "\n",
    "# Filter the data \n",
    "df_jan_filtered = df_jan[(df_jan['duration'] >= min_duration) & (df_jan['duration'] <= max_duration)].copy()\n",
    "\n",
    "#Number of records dropped\n",
    "records_dropped = initial_count - len(df_jan_filtered)\n",
    "print(f'Number of records dropped : {records_dropped}')\n",
    "\n",
    "# Update the df_jan to the filtered version for the rest of questions\n",
    "df_jan = df_jan_filtered"
   ]
  },
  {
   "cell_type": "markdown",
   "id": "a664882c",
   "metadata": {},
   "source": [
    "**What's the fractions of missing values for the pickup location ID? I.e. fraction of \"-1\"s after you filled the NAs.**"
   ]
  },
  {
   "cell_type": "code",
   "execution_count": 15,
   "id": "18a344da",
   "metadata": {},
   "outputs": [
    {
     "name": "stdout",
     "output_type": "stream",
     "text": [
      "The fraction of records with missing (now -1) PUlocationID is: 0.8353\n"
     ]
    }
   ],
   "source": [
    "# your code here\n",
    "#Store the column names for location IDs\n",
    "location_cols = ['PUlocationID' , 'DOlocationID']\n",
    "\n",
    "#Fill NA values in locations ID columns with -1\n",
    "df_jan[location_cols] = df_jan[location_cols].fillna(-1).astype('int64')\n",
    "\n",
    "# Calculate the fraction of records where pickup location ID is -1\n",
    "missing_pickup_fraction = (df_jan['PUlocationID'] == -1).mean()\n",
    "\n",
    "print(f'The fraction of records with missing (now -1) PUlocationID is: {missing_pickup_fraction:.4f}')"
   ]
  },
  {
   "cell_type": "markdown",
   "id": "73f78dcb",
   "metadata": {},
   "source": [
    "**Q5: What's the dimensionality of this matrix? (The number of columns).**"
   ]
  },
  {
   "cell_type": "code",
   "execution_count": 16,
   "id": "1488c9ad",
   "metadata": {},
   "outputs": [
    {
     "name": "stdout",
     "output_type": "stream",
     "text": [
      "The dimensionality of the one-hot encoded feature matrix is: 525\n"
     ]
    }
   ],
   "source": [
    "# your code here\n",
    "# One-hot encode PUlocationID and DOlocationID\n",
    "X = pd.get_dummies(df_jan[['PUlocationID', 'DOlocationID']].astype(str))\n",
    "\n",
    "# The dimensionality (number of columns) is:\n",
    "dimensionality = X.shape[1]\n",
    "print(f\"The dimensionality of the one-hot encoded feature matrix is: {dimensionality}\")\n"
   ]
  },
  {
   "cell_type": "markdown",
   "id": "74cf3bdd",
   "metadata": {},
   "source": [
    "**Q6: What's the RMSE on train?**"
   ]
  },
  {
   "cell_type": "code",
   "execution_count": 17,
   "id": "f0af662d",
   "metadata": {
    "scrolled": true
   },
   "outputs": [
    {
     "name": "stdout",
     "output_type": "stream",
     "text": [
      "The RMSE on the training data (January) is: 10.53\n"
     ]
    }
   ],
   "source": [
    "# your code here\n",
    "\n",
    "from sklearn.linear_model import Ridge\n",
    "from sklearn.metrics import mean_squared_error\n",
    "import numpy as np\n",
    "\n",
    "y = df_jan['duration']\n",
    "ridge = Ridge()\n",
    "ridge.fit(X, y)\n",
    "y_pred = ridge.predict(X)\n",
    "rmse_train = np.sqrt(mean_squared_error(y, y_pred))\n",
    "print(f\"The RMSE on the training data (January) is: {rmse_train:.2f}\")"
   ]
  },
  {
   "cell_type": "markdown",
   "id": "db143f0c",
   "metadata": {},
   "source": [
    "Now, let's put data preprocssing steps in a function so that we can process the validation set in the same way as well."
   ]
  },
  {
   "cell_type": "code",
   "execution_count": 18,
   "id": "1906e10e",
   "metadata": {},
   "outputs": [],
   "source": [
    "# your code here\n",
    "def prepare_data(df: pd.DataFrame) -> pd.DataFrame:\n",
    "    \"\"\"Applies necessary preprocessing steps to the dataframe.\"\"\"\n",
    "\n",
    "    # 1. Calculate and filter duration (1-60 mins)\n",
    "    df['duration'] = df['dropOff_datetime'] - df['pickup_datetime']\n",
    "    df['duration'] = df['duration'].apply(lambda x: x.total_seconds() / 60)\n",
    "    df_filtered = df[(df['duration'] >= 1) & (df['duration'] <= 60)].copy()\n",
    "\n",
    "    # 2. Fill NA in Location IDs and convert to integer\n",
    "    location_cols = ['PUlocationID', 'DOlocationID']\n",
    "    df_filtered[location_cols] = df_filtered[location_cols].fillna(-1).astype('int64')\n",
    "\n",
    "    return df_filtered"
   ]
  },
  {
   "cell_type": "markdown",
   "id": "232b8068",
   "metadata": {},
   "source": [
    "**Q7: What's the RMSE on validation?**"
   ]
  },
  {
   "cell_type": "code",
   "execution_count": 19,
   "id": "6b2aa8e7",
   "metadata": {},
   "outputs": [],
   "source": [
    "# your code here\n",
    "#Preprocess February data\n",
    "df_val = prepare_data(df_feb)"
   ]
  },
  {
   "cell_type": "code",
   "execution_count": 20,
   "id": "b1d67d2f",
   "metadata": {},
   "outputs": [],
   "source": [
    "#  Create feature matrix for validation (X_val) \n",
    "X_val = pd.get_dummies(df_val[['PUlocationID', 'DOlocationID']].astype(str))\n",
    "X_val = X_val.reindex(columns=X.columns, fill_value=0)\n",
    "y_val = df_val['duration']"
   ]
  },
  {
   "cell_type": "code",
   "execution_count": 21,
   "id": "ec7f2eb1",
   "metadata": {},
   "outputs": [
    {
     "name": "stdout",
     "output_type": "stream",
     "text": [
      "The RMSE on the validation data (February) is: 11.01\n"
     ]
    }
   ],
   "source": [
    "# Predict and calculate RMSE using the trained Ridge model\n",
    "y_val_pred = ridge.predict(X_val)\n",
    "rmse_val = np.sqrt(mean_squared_error(y_val, y_val_pred))\n",
    "print(f\"The RMSE on the validation data (February) is: {rmse_val:.2f}\")"
   ]
  },
  {
   "cell_type": "markdown",
   "id": "01a0bf73",
   "metadata": {},
   "source": [
    "## Why to use MLOps as we learn from this excercise ##"
   ]
  },
  {
   "cell_type": "code",
   "execution_count": null,
   "id": "c4422206",
   "metadata": {},
   "outputs": [],
   "source": [
    "# MLOps helps keep machine learning workflows consistent and reproducible, so results can be trusted and repeated.\n",
    "# It enables monitoring and automation, making it easier to detect issues and retrain models when needed.\n",
    "# By organizing code, data, and experiments, MLOps supports collaboration and reliable deployment in production."
   ]
  },
  {
   "cell_type": "markdown",
   "id": "8dca5629",
   "metadata": {},
   "source": [
    "## BONUS: \n",
    "\n",
    "Now, try and run this notebook on AWS Instance"
   ]
  },
  {
   "cell_type": "markdown",
   "id": "db11f7cf",
   "metadata": {},
   "source": []
  }
 ],
 "metadata": {
  "kernelspec": {
   "display_name": "base",
   "language": "python",
   "name": "python3"
  },
  "language_info": {
   "codemirror_mode": {
    "name": "ipython",
    "version": 3
   },
   "file_extension": ".py",
   "mimetype": "text/x-python",
   "name": "python",
   "nbconvert_exporter": "python",
   "pygments_lexer": "ipython3",
   "version": "3.12.7"
  }
 },
 "nbformat": 4,
 "nbformat_minor": 5
}
